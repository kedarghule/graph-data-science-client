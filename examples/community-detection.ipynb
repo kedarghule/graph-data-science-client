{
 "cells": [
  {
   "attachments": {},
   "cell_type": "markdown",
   "id": "f083f11b",
   "metadata": {},
   "source": [
    "## Community Detection\n",
    "\n",
    "The notebook shows the usage of the `graphdatascience` library for community detection on the Reddit Hyperlink Network dataset that can be downloaded [here](https://snap.stanford.edu/data/soc-RedditHyperlinks.html). We will use the `soc-redditHyperlinks-body.tsv` file.\n",
    "\n",
    "The tasks we cover here include performing initial graph preprocessing using Weakly Connected Components and then performing community detection on the largest component using the Louvain algorithm.\n",
    "\n",
    "### Setup\n",
    "\n",
    "We need to import the following libraries:\n",
    "- graphdatascience\n",
    "- neo4j\n",
    "- pandas"
   ]
  },
  {
   "cell_type": "code",
   "execution_count": 1,
   "id": "3953e353",
   "metadata": {},
   "outputs": [
    {
     "name": "stderr",
     "output_type": "stream",
     "text": [
      "C:\\Users\\kedar\\anaconda3\\envs\\graph_stuff\\lib\\site-packages\\tqdm\\auto.py:21: TqdmWarning: IProgress not found. Please update jupyter and ipywidgets. See https://ipywidgets.readthedocs.io/en/stable/user_install.html\n",
      "  from .autonotebook import tqdm as notebook_tqdm\n"
     ]
    }
   ],
   "source": [
    "from graphdatascience import GraphDataScience\n",
    "from neo4j import GraphDatabase\n",
    "from neo4j.exceptions import ServiceUnavailable\n",
    "import pandas as pd"
   ]
  },
  {
   "cell_type": "code",
   "execution_count": 2,
   "id": "46b33d2d",
   "metadata": {},
   "outputs": [
    {
     "name": "stdout",
     "output_type": "stream",
     "text": [
      "2.3.5\n"
     ]
    }
   ],
   "source": [
    "# # Replace with the actual connection URI and credentials\n",
    "NEO4J_CONNECTION_URI = \"bolt://XXXXXXXXXXXXX\n",
    "NEO4J_USERNAME = \"neo4j\"\n",
    "NEO4J_PASSWORD = \"XXXXXXXXXXXXX\"\n",
    "\n",
    "# Client instantiation\n",
    "gds = GraphDataScience(\n",
    "    NEO4J_CONNECTION_URI,\n",
    "    auth=(NEO4J_USERNAME, NEO4J_PASSWORD)\n",
    ")\n",
    "\n",
    "print(gds.version())"
   ]
  },
  {
   "attachments": {},
   "cell_type": "markdown",
   "id": "48bd8af1",
   "metadata": {},
   "source": [
    "### Importing the dataset\n",
    "\n",
    "We import the dataset as a pandas dataframe first. We work with only a subset of the dataset. The sampled data is only till 1st March 2014. "
   ]
  },
  {
   "cell_type": "code",
   "execution_count": 3,
   "id": "a8e677aa",
   "metadata": {},
   "outputs": [
    {
     "data": {
      "text/html": [
       "<div>\n",
       "<style scoped>\n",
       "    .dataframe tbody tr th:only-of-type {\n",
       "        vertical-align: middle;\n",
       "    }\n",
       "\n",
       "    .dataframe tbody tr th {\n",
       "        vertical-align: top;\n",
       "    }\n",
       "\n",
       "    .dataframe thead th {\n",
       "        text-align: right;\n",
       "    }\n",
       "</style>\n",
       "<table border=\"1\" class=\"dataframe\">\n",
       "  <thead>\n",
       "    <tr style=\"text-align: right;\">\n",
       "      <th></th>\n",
       "      <th>SOURCE_SUBREDDIT</th>\n",
       "      <th>TARGET_SUBREDDIT</th>\n",
       "      <th>POST_ID</th>\n",
       "      <th>TIMESTAMP</th>\n",
       "      <th>LINK_SENTIMENT</th>\n",
       "      <th>PROPERTIES</th>\n",
       "    </tr>\n",
       "  </thead>\n",
       "  <tbody>\n",
       "    <tr>\n",
       "      <th>0</th>\n",
       "      <td>leagueoflegends</td>\n",
       "      <td>teamredditteams</td>\n",
       "      <td>1u4nrps</td>\n",
       "      <td>2013-12-31 16:39:58</td>\n",
       "      <td>1</td>\n",
       "      <td>345.0,298.0,0.75652173913,0.0173913043478,0.08...</td>\n",
       "    </tr>\n",
       "    <tr>\n",
       "      <th>1</th>\n",
       "      <td>theredlion</td>\n",
       "      <td>soccer</td>\n",
       "      <td>1u4qkd</td>\n",
       "      <td>2013-12-31 18:18:37</td>\n",
       "      <td>-1</td>\n",
       "      <td>101.0,98.0,0.742574257426,0.019801980198,0.049...</td>\n",
       "    </tr>\n",
       "    <tr>\n",
       "      <th>2</th>\n",
       "      <td>inlandempire</td>\n",
       "      <td>bikela</td>\n",
       "      <td>1u4qlzs</td>\n",
       "      <td>2014-01-01 14:54:35</td>\n",
       "      <td>1</td>\n",
       "      <td>85.0,85.0,0.752941176471,0.0235294117647,0.082...</td>\n",
       "    </tr>\n",
       "    <tr>\n",
       "      <th>3</th>\n",
       "      <td>nfl</td>\n",
       "      <td>cfb</td>\n",
       "      <td>1u4sjvs</td>\n",
       "      <td>2013-12-31 17:37:55</td>\n",
       "      <td>1</td>\n",
       "      <td>1124.0,949.0,0.772241992883,0.0017793594306,0....</td>\n",
       "    </tr>\n",
       "    <tr>\n",
       "      <th>4</th>\n",
       "      <td>playmygame</td>\n",
       "      <td>gamedev</td>\n",
       "      <td>1u4w5ss</td>\n",
       "      <td>2014-01-01 02:51:13</td>\n",
       "      <td>1</td>\n",
       "      <td>715.0,622.0,0.777622377622,0.00699300699301,0....</td>\n",
       "    </tr>\n",
       "  </tbody>\n",
       "</table>\n",
       "</div>"
      ],
      "text/plain": [
       "  SOURCE_SUBREDDIT TARGET_SUBREDDIT  POST_ID            TIMESTAMP  \\\n",
       "0  leagueoflegends  teamredditteams  1u4nrps  2013-12-31 16:39:58   \n",
       "1       theredlion           soccer   1u4qkd  2013-12-31 18:18:37   \n",
       "2     inlandempire           bikela  1u4qlzs  2014-01-01 14:54:35   \n",
       "3              nfl              cfb  1u4sjvs  2013-12-31 17:37:55   \n",
       "4       playmygame          gamedev  1u4w5ss  2014-01-01 02:51:13   \n",
       "\n",
       "   LINK_SENTIMENT                                         PROPERTIES  \n",
       "0               1  345.0,298.0,0.75652173913,0.0173913043478,0.08...  \n",
       "1              -1  101.0,98.0,0.742574257426,0.019801980198,0.049...  \n",
       "2               1  85.0,85.0,0.752941176471,0.0235294117647,0.082...  \n",
       "3               1  1124.0,949.0,0.772241992883,0.0017793594306,0....  \n",
       "4               1  715.0,622.0,0.777622377622,0.00699300699301,0....  "
      ]
     },
     "execution_count": 3,
     "metadata": {},
     "output_type": "execute_result"
    }
   ],
   "source": [
    "df = pd.read_csv('soc-redditHyperlinks-body.tsv', sep='\\t')\n",
    "df = df[df['TIMESTAMP'] < \"2014-03-01 02:51:13\"]\n",
    "df.head()"
   ]
  },
  {
   "attachments": {},
   "cell_type": "markdown",
   "id": "be7b1c5d",
   "metadata": {},
   "source": [
    "The `LINK_SENTIMENT` column tells if there is a positive (+1) or negative (-1) relationship from the source subreddit to destination subreddit. We filter out the negative sentiment relationships as they won't add to any meaningful communities. We also drop duplicate relationships."
   ]
  },
  {
   "cell_type": "code",
   "execution_count": 4,
   "id": "2f153da1",
   "metadata": {},
   "outputs": [
    {
     "data": {
      "text/html": [
       "<div>\n",
       "<style scoped>\n",
       "    .dataframe tbody tr th:only-of-type {\n",
       "        vertical-align: middle;\n",
       "    }\n",
       "\n",
       "    .dataframe tbody tr th {\n",
       "        vertical-align: top;\n",
       "    }\n",
       "\n",
       "    .dataframe thead th {\n",
       "        text-align: right;\n",
       "    }\n",
       "</style>\n",
       "<table border=\"1\" class=\"dataframe\">\n",
       "  <thead>\n",
       "    <tr style=\"text-align: right;\">\n",
       "      <th></th>\n",
       "      <th>SOURCE_SUBREDDIT</th>\n",
       "      <th>TARGET_SUBREDDIT</th>\n",
       "    </tr>\n",
       "  </thead>\n",
       "  <tbody>\n",
       "    <tr>\n",
       "      <th>0</th>\n",
       "      <td>leagueoflegends</td>\n",
       "      <td>teamredditteams</td>\n",
       "    </tr>\n",
       "    <tr>\n",
       "      <th>2</th>\n",
       "      <td>inlandempire</td>\n",
       "      <td>bikela</td>\n",
       "    </tr>\n",
       "    <tr>\n",
       "      <th>3</th>\n",
       "      <td>nfl</td>\n",
       "      <td>cfb</td>\n",
       "    </tr>\n",
       "    <tr>\n",
       "      <th>4</th>\n",
       "      <td>playmygame</td>\n",
       "      <td>gamedev</td>\n",
       "    </tr>\n",
       "    <tr>\n",
       "      <th>5</th>\n",
       "      <td>dogemarket</td>\n",
       "      <td>dogecoin</td>\n",
       "    </tr>\n",
       "  </tbody>\n",
       "</table>\n",
       "</div>"
      ],
      "text/plain": [
       "  SOURCE_SUBREDDIT TARGET_SUBREDDIT\n",
       "0  leagueoflegends  teamredditteams\n",
       "2     inlandempire           bikela\n",
       "3              nfl              cfb\n",
       "4       playmygame          gamedev\n",
       "5       dogemarket         dogecoin"
      ]
     },
     "execution_count": 4,
     "metadata": {},
     "output_type": "execute_result"
    }
   ],
   "source": [
    "relationship_df = df[df['LINK_SENTIMENT'] == 1]\n",
    "columns = ['SOURCE_SUBREDDIT', 'TARGET_SUBREDDIT']\n",
    "relationship_df = relationship_df[columns]\n",
    "relationship_df = relationship_df.drop_duplicates()\n",
    "relationship_df.head()"
   ]
  },
  {
   "attachments": {},
   "cell_type": "markdown",
   "id": "59e6a5e9",
   "metadata": {},
   "source": [
    "Next, we get a list of all the distinct nodes (source or destination) and load them as a dataframe."
   ]
  },
  {
   "cell_type": "code",
   "execution_count": 5,
   "id": "6266953f",
   "metadata": {},
   "outputs": [
    {
     "data": {
      "text/html": [
       "<div>\n",
       "<style scoped>\n",
       "    .dataframe tbody tr th:only-of-type {\n",
       "        vertical-align: middle;\n",
       "    }\n",
       "\n",
       "    .dataframe tbody tr th {\n",
       "        vertical-align: top;\n",
       "    }\n",
       "\n",
       "    .dataframe thead th {\n",
       "        text-align: right;\n",
       "    }\n",
       "</style>\n",
       "<table border=\"1\" class=\"dataframe\">\n",
       "  <thead>\n",
       "    <tr style=\"text-align: right;\">\n",
       "      <th></th>\n",
       "      <th>SUBREDDIT</th>\n",
       "    </tr>\n",
       "  </thead>\n",
       "  <tbody>\n",
       "    <tr>\n",
       "      <th>0</th>\n",
       "      <td>leagueoflegends</td>\n",
       "    </tr>\n",
       "    <tr>\n",
       "      <th>1</th>\n",
       "      <td>theredlion</td>\n",
       "    </tr>\n",
       "    <tr>\n",
       "      <th>2</th>\n",
       "      <td>inlandempire</td>\n",
       "    </tr>\n",
       "    <tr>\n",
       "      <th>3</th>\n",
       "      <td>nfl</td>\n",
       "    </tr>\n",
       "    <tr>\n",
       "      <th>4</th>\n",
       "      <td>playmygame</td>\n",
       "    </tr>\n",
       "  </tbody>\n",
       "</table>\n",
       "</div>"
      ],
      "text/plain": [
       "         SUBREDDIT\n",
       "0  leagueoflegends\n",
       "1       theredlion\n",
       "2     inlandempire\n",
       "3              nfl\n",
       "4       playmygame"
      ]
     },
     "execution_count": 5,
     "metadata": {},
     "output_type": "execute_result"
    }
   ],
   "source": [
    "# get unique nodes for each column\n",
    "source_nodes = pd.Series(df['SOURCE_SUBREDDIT']).unique()\n",
    "target_nodes = pd.Series(df['TARGET_SUBREDDIT']).unique()\n",
    "\n",
    "# get unique nodes for both columns\n",
    "all_nodes = pd.Series(pd.concat([df['SOURCE_SUBREDDIT'], df['TARGET_SUBREDDIT']])).unique()\n",
    "\n",
    "# create new dataframe with distinct nodes\n",
    "nodes_df = pd.DataFrame({'SUBREDDIT': all_nodes})\n",
    "nodes_df.head()"
   ]
  },
  {
   "attachments": {},
   "cell_type": "markdown",
   "id": "c30a4378",
   "metadata": {},
   "source": [
    "Finally, we load this data (nodes and edges) into a Graph Database and a GDS graph."
   ]
  },
  {
   "cell_type": "code",
   "execution_count": 6,
   "id": "0b18e522",
   "metadata": {
    "scrolled": true
   },
   "outputs": [],
   "source": [
    "driver = GraphDatabase.driver(NEO4J_CONNECTION_URI,\n",
    "    auth=(NEO4J_USERNAME, NEO4J_PASSWORD))\n",
    "\n",
    "# Create nodes and relationships in the graph using UNWIND\n",
    "with driver.session() as session:\n",
    "    # Create nodes using UNWIND\n",
    "    nodes_list = nodes_df.to_dict('records')\n",
    "    session.run(\"UNWIND $nodes_list AS node_props CREATE (n:Subreddit {node_id: node_props.SUBREDDIT, node_label: node_props.SUBREDDIT})\", nodes_list=nodes_list)\n",
    "\n",
    "    # Create relationships using UNWIND\n",
    "    edges_list = relationship_df.to_dict('records')\n",
    "    session.run(\"UNWIND $edges_list AS rel_props MATCH (source:Subreddit {node_id: rel_props.SOURCE_SUBREDDIT}), (target:Subreddit {node_id: rel_props.TARGET_SUBREDDIT}) CREATE (source)-[:HYPERLINKED_TO {relationship_type: rel_props.relationship_type}]->(target)\", edges_list=edges_list)"
   ]
  },
  {
   "cell_type": "code",
   "execution_count": 7,
   "id": "7a3509e8",
   "metadata": {},
   "outputs": [
    {
     "name": "stderr",
     "output_type": "stream",
     "text": [
      "Loading: 100%|██████████| 100.0/100 [00:09<00:00, 11.02%/s] \n"
     ]
    },
    {
     "name": "stdout",
     "output_type": "stream",
     "text": [
      "The projection took 9289 ms\n",
      "Graph 'reddit' node count: 3801\n",
      "Graph 'reddit' node labels: ['Subreddit']\n"
     ]
    }
   ],
   "source": [
    "node_projection = [\"Subreddit\"]\n",
    "relationship_projection = {\"HYPERLINKED_TO\": {\"orientation\": \"NATURAL\"}}\n",
    "\n",
    "G, result = gds.graph.project(\"reddit\", node_projection, relationship_projection) #, nodeProperties = ['node_id', 'node_label']\n",
    "\n",
    "print(f\"The projection took {result['projectMillis']} ms\")\n",
    "\n",
    "# We can use convenience methods on `G` to check if the projection looks correct\n",
    "print(f\"Graph '{G.name()}' node count: {G.node_count()}\")\n",
    "print(f\"Graph '{G.name()}' node labels: {G.node_labels()}\")"
   ]
  },
  {
   "cell_type": "code",
   "execution_count": 8,
   "id": "61aa6afe",
   "metadata": {},
   "outputs": [
    {
     "data": {
      "text/html": [
       "<div>\n",
       "<style scoped>\n",
       "    .dataframe tbody tr th:only-of-type {\n",
       "        vertical-align: middle;\n",
       "    }\n",
       "\n",
       "    .dataframe tbody tr th {\n",
       "        vertical-align: top;\n",
       "    }\n",
       "\n",
       "    .dataframe thead th {\n",
       "        text-align: right;\n",
       "    }\n",
       "</style>\n",
       "<table border=\"1\" class=\"dataframe\">\n",
       "  <thead>\n",
       "    <tr style=\"text-align: right;\">\n",
       "      <th></th>\n",
       "      <th>degreeDistribution</th>\n",
       "      <th>graphName</th>\n",
       "      <th>database</th>\n",
       "      <th>memoryUsage</th>\n",
       "      <th>sizeInBytes</th>\n",
       "      <th>nodeCount</th>\n",
       "      <th>relationshipCount</th>\n",
       "      <th>configuration</th>\n",
       "      <th>density</th>\n",
       "      <th>creationTime</th>\n",
       "      <th>modificationTime</th>\n",
       "      <th>schema</th>\n",
       "      <th>schemaWithOrientation</th>\n",
       "    </tr>\n",
       "  </thead>\n",
       "  <tbody>\n",
       "    <tr>\n",
       "      <th>0</th>\n",
       "      <td>{'p99': 15, 'min': 0, 'max': 87, 'mean': 1.631...</td>\n",
       "      <td>reddit</td>\n",
       "      <td>neo4j</td>\n",
       "      <td>876 KiB</td>\n",
       "      <td>897448</td>\n",
       "      <td>3801</td>\n",
       "      <td>6200</td>\n",
       "      <td>{'relationshipProjection': {'HYPERLINKED_TO': ...</td>\n",
       "      <td>0.000429</td>\n",
       "      <td>2023-05-14T15:29:30.028518203+00:00</td>\n",
       "      <td>2023-05-14T15:29:30.931965175+00:00</td>\n",
       "      <td>{'graphProperties': {}, 'relationships': {'HYP...</td>\n",
       "      <td>{'graphProperties': {}, 'relationships': {'HYP...</td>\n",
       "    </tr>\n",
       "  </tbody>\n",
       "</table>\n",
       "</div>"
      ],
      "text/plain": [
       "                                  degreeDistribution graphName database  \\\n",
       "0  {'p99': 15, 'min': 0, 'max': 87, 'mean': 1.631...    reddit    neo4j   \n",
       "\n",
       "  memoryUsage  sizeInBytes  nodeCount  relationshipCount  \\\n",
       "0     876 KiB       897448       3801               6200   \n",
       "\n",
       "                                       configuration   density  \\\n",
       "0  {'relationshipProjection': {'HYPERLINKED_TO': ...  0.000429   \n",
       "\n",
       "                          creationTime                     modificationTime  \\\n",
       "0  2023-05-14T15:29:30.028518203+00:00  2023-05-14T15:29:30.931965175+00:00   \n",
       "\n",
       "                                              schema  \\\n",
       "0  {'graphProperties': {}, 'relationships': {'HYP...   \n",
       "\n",
       "                               schemaWithOrientation  \n",
       "0  {'graphProperties': {}, 'relationships': {'HYP...  "
      ]
     },
     "execution_count": 8,
     "metadata": {},
     "output_type": "execute_result"
    }
   ],
   "source": [
    "gds.graph.list()"
   ]
  },
  {
   "attachments": {},
   "cell_type": "markdown",
   "id": "9c259471",
   "metadata": {},
   "source": [
    "### Weakly Connected Components\n",
    "\n",
    "A graph dataset need not always be connected. That is, there may not exist a path from every node to \n",
    "every other node in the graph dataset (subgraphs in it may not connected to each other at all). Hence, we \n",
    "need to find the total number of nodes in each subgraph to see if it is big enough for further graph analysis. \n",
    "Smaller subgraphs or lone nodes will not contribute to the community detection task and should be \n",
    "eliminated. Weakly Connected Components is often used as one of the early steps of graph preprocessing.\n",
    "\n",
    "We use the [Weakly Connected Components](https://neo4j.com/docs/graph-data-science/2.4-preview/algorithms/wcc/) algorithm to find sets of connected nodes and assign each set a component id."
   ]
  },
  {
   "cell_type": "code",
   "execution_count": 9,
   "id": "7a114af1",
   "metadata": {},
   "outputs": [
    {
     "name": "stdout",
     "output_type": "stream",
     "text": [
      "{'jobId': 'b69faaaa-a267-444c-82b2-d11c66f9a6a4', 'seedProperty': None, 'consecutiveIds': False, 'threshold': 0.0, 'logProgress': True, 'nodeLabels': ['*'], 'sudo': False, 'relationshipTypes': ['*'], 'mutateProperty': 'componentId', 'concurrency': 4}\n"
     ]
    }
   ],
   "source": [
    "df = gds.wcc.mutate(G, mutateProperty='componentId')\n",
    "print(df.configuration)"
   ]
  },
  {
   "cell_type": "code",
   "execution_count": 10,
   "id": "04fd557e",
   "metadata": {},
   "outputs": [
    {
     "data": {
      "text/plain": [
       "Subreddit    [componentId]\n",
       "dtype: object"
      ]
     },
     "execution_count": 10,
     "metadata": {},
     "output_type": "execute_result"
    }
   ],
   "source": [
    "G.node_properties()"
   ]
  },
  {
   "cell_type": "code",
   "execution_count": 11,
   "id": "2274a19a",
   "metadata": {},
   "outputs": [
    {
     "data": {
      "text/html": [
       "<div>\n",
       "<style scoped>\n",
       "    .dataframe tbody tr th:only-of-type {\n",
       "        vertical-align: middle;\n",
       "    }\n",
       "\n",
       "    .dataframe tbody tr th {\n",
       "        vertical-align: top;\n",
       "    }\n",
       "\n",
       "    .dataframe thead th {\n",
       "        text-align: right;\n",
       "    }\n",
       "</style>\n",
       "<table border=\"1\" class=\"dataframe\">\n",
       "  <thead>\n",
       "    <tr style=\"text-align: right;\">\n",
       "      <th></th>\n",
       "      <th>componentId</th>\n",
       "      <th>Subreddits</th>\n",
       "      <th>Num_subreddits</th>\n",
       "    </tr>\n",
       "  </thead>\n",
       "  <tbody>\n",
       "    <tr>\n",
       "      <th>0</th>\n",
       "      <td>0</td>\n",
       "      <td>[leagueoflegends, nfl, playmygame, dogemarket,...</td>\n",
       "      <td>3172</td>\n",
       "    </tr>\n",
       "    <tr>\n",
       "      <th>1</th>\n",
       "      <td>278</td>\n",
       "      <td>[orangered, orangeredacademy, pasto_range, per...</td>\n",
       "      <td>20</td>\n",
       "    </tr>\n",
       "    <tr>\n",
       "      <th>2</th>\n",
       "      <td>23</td>\n",
       "      <td>[thedoctorstravels, sirron, aislynisdead, game...</td>\n",
       "      <td>8</td>\n",
       "    </tr>\n",
       "    <tr>\n",
       "      <th>3</th>\n",
       "      <td>768</td>\n",
       "      <td>[iracing, simracing, redditracing, team_medioc...</td>\n",
       "      <td>6</td>\n",
       "    </tr>\n",
       "    <tr>\n",
       "      <th>4</th>\n",
       "      <td>832</td>\n",
       "      <td>[perfumeexchange, indiemakeupandmore, asianbea...</td>\n",
       "      <td>6</td>\n",
       "    </tr>\n",
       "    <tr>\n",
       "      <th>...</th>\n",
       "      <td>...</td>\n",
       "      <td>...</td>\n",
       "      <td>...</td>\n",
       "    </tr>\n",
       "    <tr>\n",
       "      <th>314</th>\n",
       "      <td>3712</td>\n",
       "      <td>[aggies]</td>\n",
       "      <td>1</td>\n",
       "    </tr>\n",
       "    <tr>\n",
       "      <th>315</th>\n",
       "      <td>3759</td>\n",
       "      <td>[brunei]</td>\n",
       "      <td>1</td>\n",
       "    </tr>\n",
       "    <tr>\n",
       "      <th>316</th>\n",
       "      <td>3769</td>\n",
       "      <td>[descentintotyranny]</td>\n",
       "      <td>1</td>\n",
       "    </tr>\n",
       "    <tr>\n",
       "      <th>317</th>\n",
       "      <td>3771</td>\n",
       "      <td>[outofthemetaloop]</td>\n",
       "      <td>1</td>\n",
       "    </tr>\n",
       "    <tr>\n",
       "      <th>318</th>\n",
       "      <td>3773</td>\n",
       "      <td>[pokemonshowdown]</td>\n",
       "      <td>1</td>\n",
       "    </tr>\n",
       "  </tbody>\n",
       "</table>\n",
       "<p>319 rows × 3 columns</p>\n",
       "</div>"
      ],
      "text/plain": [
       "     componentId                                         Subreddits  \\\n",
       "0              0  [leagueoflegends, nfl, playmygame, dogemarket,...   \n",
       "1            278  [orangered, orangeredacademy, pasto_range, per...   \n",
       "2             23  [thedoctorstravels, sirron, aislynisdead, game...   \n",
       "3            768  [iracing, simracing, redditracing, team_medioc...   \n",
       "4            832  [perfumeexchange, indiemakeupandmore, asianbea...   \n",
       "..           ...                                                ...   \n",
       "314         3712                                           [aggies]   \n",
       "315         3759                                           [brunei]   \n",
       "316         3769                               [descentintotyranny]   \n",
       "317         3771                                 [outofthemetaloop]   \n",
       "318         3773                                  [pokemonshowdown]   \n",
       "\n",
       "     Num_subreddits  \n",
       "0              3172  \n",
       "1                20  \n",
       "2                 8  \n",
       "3                 6  \n",
       "4                 6  \n",
       "..              ...  \n",
       "314               1  \n",
       "315               1  \n",
       "316               1  \n",
       "317               1  \n",
       "318               1  \n",
       "\n",
       "[319 rows x 3 columns]"
      ]
     },
     "execution_count": 11,
     "metadata": {},
     "output_type": "execute_result"
    }
   ],
   "source": [
    "query = \"\"\"\n",
    "    CALL gds.wcc.stream('reddit')\n",
    "    YIELD nodeId, componentId\n",
    "    RETURN componentId, collect(gds.util.asNode(nodeId).node_id) AS Subreddits, size(collect(gds.util.asNode(nodeId).node_id)) AS Num_subreddits\n",
    "    ORDER BY size(Subreddits) DESC\n",
    "\"\"\"\n",
    "wcc = gds.run_cypher(query)\n",
    "wcc"
   ]
  },
  {
   "attachments": {},
   "cell_type": "markdown",
   "id": "9a2355cb",
   "metadata": {},
   "source": [
    "We can see that the component with Id 0 has the max number of subreddits = 3172. So we will work only with that subgraph."
   ]
  },
  {
   "cell_type": "code",
   "execution_count": 12,
   "id": "d1994b04",
   "metadata": {},
   "outputs": [],
   "source": [
    "Largest_CC, _ = gds.beta.graph.project.subgraph(\n",
    "      'largest_connected_components2', \n",
    "      G,\n",
    "      'n.componentId=0', \n",
    "      '*'\n",
    "    )"
   ]
  },
  {
   "cell_type": "code",
   "execution_count": 13,
   "id": "f3e613a1",
   "metadata": {},
   "outputs": [
    {
     "data": {
      "text/plain": [
       "Graph({'graphName': 'largest_connected_components2', 'nodeCount': 3172, 'relationshipCount': 5858, 'database': 'neo4j', 'configuration': {'relationshipProperties': {}, 'creationTime': neo4j.time.DateTime(2023, 5, 14, 15, 29, 52, 126057108, tzinfo=<StaticTzInfo 'Etc/UTC'>), 'validateRelationships': False, 'nodeFilter': 'n.componentId=0', 'relationshipFilter': '*', 'nodeProperties': {}, 'concurrency': 4, 'relationshipProjection': {'HYPERLINKED_TO': {'orientation': 'NATURAL', 'indexInverse': False, 'aggregation': 'DEFAULT', 'type': 'HYPERLINKED_TO', 'properties': {}}}, 'jobId': 'e1d3750e-61f5-4928-b16c-4f5f566e09f1', 'nodeProjection': {'Subreddit': {'label': 'Subreddit', 'properties': {}}}, 'logProgress': True, 'readConcurrency': 4, 'sudo': False, 'parameters': {}}, 'schema': {'graphProperties': {}, 'relationships': {'HYPERLINKED_TO': {}}, 'nodes': {'Subreddit': {'componentId': 'Integer (DefaultValue(-9223372036854775808), TRANSIENT)'}}}, 'memoryUsage': '901 KiB'})"
      ]
     },
     "execution_count": 13,
     "metadata": {},
     "output_type": "execute_result"
    }
   ],
   "source": [
    "Largest_CC"
   ]
  },
  {
   "attachments": {},
   "cell_type": "markdown",
   "id": "17942d04",
   "metadata": {},
   "source": [
    "### Community Detection using Louvain\n",
    "\n",
    "We use the [Louvain](https://neo4j.com/docs/graph-data-science/2.4-preview/algorithms/louvain/) algorithm to detect communities in our subgraph and assign a louvainCommunityId to each community."
   ]
  },
  {
   "cell_type": "code",
   "execution_count": 14,
   "id": "def26464",
   "metadata": {},
   "outputs": [
    {
     "name": "stderr",
     "output_type": "stream",
     "text": [
      "Louvain: 100%|██████████| 100.0/100 [00:12<00:00,  7.95%/s]\n"
     ]
    },
    {
     "data": {
      "text/plain": [
       "mutateMillis                                                             0\n",
       "nodePropertiesWritten                                                 3172\n",
       "modularity                                                         0.58988\n",
       "modularities             [0.4494089141198883, 0.5373675216145954, 0.555...\n",
       "ranLevels                                                               10\n",
       "communityCount                                                         300\n",
       "communityDistribution    {'p99': 196, 'min': 1, 'max': 382, 'mean': 10....\n",
       "postProcessingMillis                                                    22\n",
       "preProcessingMillis                                                      1\n",
       "computeMillis                                                        12974\n",
       "configuration            {'maxIterations': 10, 'seedProperty': None, 'c...\n",
       "Name: 0, dtype: object"
      ]
     },
     "execution_count": 14,
     "metadata": {},
     "output_type": "execute_result"
    }
   ],
   "source": [
    "df2 = gds.louvain.mutate(Largest_CC, mutateProperty='louvainCommunityId')\n",
    "df2"
   ]
  },
  {
   "attachments": {},
   "cell_type": "markdown",
   "id": "7563e824",
   "metadata": {},
   "source": [
    "We get a modularity score of 0.5898 for our community detection algorithm."
   ]
  },
  {
   "cell_type": "code",
   "execution_count": 15,
   "id": "46969ec5",
   "metadata": {},
   "outputs": [
    {
     "data": {
      "text/plain": [
       "0.5898798012505129"
      ]
     },
     "execution_count": 15,
     "metadata": {},
     "output_type": "execute_result"
    }
   ],
   "source": [
    "df2.modularity"
   ]
  },
  {
   "cell_type": "code",
   "execution_count": 16,
   "id": "15fc2baa",
   "metadata": {},
   "outputs": [
    {
     "data": {
      "text/plain": [
       "Subreddit    [componentId, louvainCommunityId]\n",
       "dtype: object"
      ]
     },
     "execution_count": 16,
     "metadata": {},
     "output_type": "execute_result"
    }
   ],
   "source": [
    "Largest_CC.node_properties()"
   ]
  },
  {
   "cell_type": "code",
   "execution_count": 17,
   "id": "858c65be",
   "metadata": {},
   "outputs": [
    {
     "data": {
      "text/html": [
       "<div>\n",
       "<style scoped>\n",
       "    .dataframe tbody tr th:only-of-type {\n",
       "        vertical-align: middle;\n",
       "    }\n",
       "\n",
       "    .dataframe tbody tr th {\n",
       "        vertical-align: top;\n",
       "    }\n",
       "\n",
       "    .dataframe thead th {\n",
       "        text-align: right;\n",
       "    }\n",
       "</style>\n",
       "<table border=\"1\" class=\"dataframe\">\n",
       "  <thead>\n",
       "    <tr style=\"text-align: right;\">\n",
       "      <th></th>\n",
       "      <th>communityCount</th>\n",
       "      <th>modularity</th>\n",
       "      <th>modularities</th>\n",
       "    </tr>\n",
       "  </thead>\n",
       "  <tbody>\n",
       "    <tr>\n",
       "      <th>0</th>\n",
       "      <td>300</td>\n",
       "      <td>0.58988</td>\n",
       "      <td>[0.4494089141198883, 0.5373675216145954, 0.555...</td>\n",
       "    </tr>\n",
       "  </tbody>\n",
       "</table>\n",
       "</div>"
      ],
      "text/plain": [
       "   communityCount  modularity  \\\n",
       "0             300     0.58988   \n",
       "\n",
       "                                        modularities  \n",
       "0  [0.4494089141198883, 0.5373675216145954, 0.555...  "
      ]
     },
     "execution_count": 17,
     "metadata": {},
     "output_type": "execute_result"
    }
   ],
   "source": [
    "query = \"\"\"\n",
    "    CALL gds.louvain.write('largest_connected_components2', { writeProperty: 'louvainCommunityId' })\n",
    "    YIELD communityCount, modularity, modularities\n",
    "\"\"\"\n",
    "communities = gds.run_cypher(query)\n",
    "communities"
   ]
  },
  {
   "cell_type": "code",
   "execution_count": 18,
   "id": "22f73aea",
   "metadata": {},
   "outputs": [
    {
     "data": {
      "text/plain": [
       "Subreddit    [componentId, louvainCommunityId]\n",
       "dtype: object"
      ]
     },
     "execution_count": 18,
     "metadata": {},
     "output_type": "execute_result"
    }
   ],
   "source": [
    "Largest_CC.node_properties()"
   ]
  },
  {
   "cell_type": "code",
   "execution_count": 19,
   "id": "19ccfcb8",
   "metadata": {},
   "outputs": [
    {
     "data": {
      "text/html": [
       "<div>\n",
       "<style scoped>\n",
       "    .dataframe tbody tr th:only-of-type {\n",
       "        vertical-align: middle;\n",
       "    }\n",
       "\n",
       "    .dataframe tbody tr th {\n",
       "        vertical-align: top;\n",
       "    }\n",
       "\n",
       "    .dataframe thead th {\n",
       "        text-align: right;\n",
       "    }\n",
       "</style>\n",
       "<table border=\"1\" class=\"dataframe\">\n",
       "  <thead>\n",
       "    <tr style=\"text-align: right;\">\n",
       "      <th></th>\n",
       "      <th>Subreddits</th>\n",
       "      <th>communityId</th>\n",
       "    </tr>\n",
       "  </thead>\n",
       "  <tbody>\n",
       "    <tr>\n",
       "      <th>0</th>\n",
       "      <td>[airsoft, bandnames, connecticut, thehiddenbar...</td>\n",
       "      <td>2406</td>\n",
       "    </tr>\n",
       "    <tr>\n",
       "      <th>1</th>\n",
       "      <td>[posthardcore, metalcore, corejerk, iama, karm...</td>\n",
       "      <td>2612</td>\n",
       "    </tr>\n",
       "    <tr>\n",
       "      <th>2</th>\n",
       "      <td>[locationbot, oldschoolcoolnsfw, uncomfortable...</td>\n",
       "      <td>2579</td>\n",
       "    </tr>\n",
       "    <tr>\n",
       "      <th>3</th>\n",
       "      <td>[playmygame, circlebroke, tribes, conspiratard...</td>\n",
       "      <td>2676</td>\n",
       "    </tr>\n",
       "    <tr>\n",
       "      <th>4</th>\n",
       "      <td>[radioreddit, autism, modhelp, digital_immorta...</td>\n",
       "      <td>3158</td>\n",
       "    </tr>\n",
       "    <tr>\n",
       "      <th>...</th>\n",
       "      <td>...</td>\n",
       "      <td>...</td>\n",
       "    </tr>\n",
       "    <tr>\n",
       "      <th>295</th>\n",
       "      <td>[banishedmaps]</td>\n",
       "      <td>3032</td>\n",
       "    </tr>\n",
       "    <tr>\n",
       "      <th>296</th>\n",
       "      <td>[screenshots]</td>\n",
       "      <td>3034</td>\n",
       "    </tr>\n",
       "    <tr>\n",
       "      <th>297</th>\n",
       "      <td>[leangains]</td>\n",
       "      <td>3039</td>\n",
       "    </tr>\n",
       "    <tr>\n",
       "      <th>298</th>\n",
       "      <td>[agnostic]</td>\n",
       "      <td>3040</td>\n",
       "    </tr>\n",
       "    <tr>\n",
       "      <th>299</th>\n",
       "      <td>[mario]</td>\n",
       "      <td>3043</td>\n",
       "    </tr>\n",
       "  </tbody>\n",
       "</table>\n",
       "<p>300 rows × 2 columns</p>\n",
       "</div>"
      ],
      "text/plain": [
       "                                            Subreddits  communityId\n",
       "0    [airsoft, bandnames, connecticut, thehiddenbar...         2406\n",
       "1    [posthardcore, metalcore, corejerk, iama, karm...         2612\n",
       "2    [locationbot, oldschoolcoolnsfw, uncomfortable...         2579\n",
       "3    [playmygame, circlebroke, tribes, conspiratard...         2676\n",
       "4    [radioreddit, autism, modhelp, digital_immorta...         3158\n",
       "..                                                 ...          ...\n",
       "295                                     [banishedmaps]         3032\n",
       "296                                      [screenshots]         3034\n",
       "297                                        [leangains]         3039\n",
       "298                                         [agnostic]         3040\n",
       "299                                            [mario]         3043\n",
       "\n",
       "[300 rows x 2 columns]"
      ]
     },
     "execution_count": 19,
     "metadata": {},
     "output_type": "execute_result"
    }
   ],
   "source": [
    "query = \"\"\"\n",
    "    CALL gds.louvain.stream('largest_connected_components2')\n",
    "    YIELD nodeId, communityId, intermediateCommunityIds\n",
    "    RETURN collect(gds.util.asNode(nodeId).node_id) AS Subreddits, communityId\n",
    "    ORDER BY size(Subreddits) DESC\n",
    "\"\"\"\n",
    "wcc = gds.run_cypher(query)\n",
    "wcc"
   ]
  },
  {
   "cell_type": "code",
   "execution_count": null,
   "id": "37b59b5b",
   "metadata": {},
   "outputs": [],
   "source": []
  }
 ],
 "metadata": {
  "kernelspec": {
   "display_name": "Python 3 (ipykernel)",
   "language": "python",
   "name": "python3"
  },
  "language_info": {
   "codemirror_mode": {
    "name": "ipython",
    "version": 3
   },
   "file_extension": ".py",
   "mimetype": "text/x-python",
   "name": "python",
   "nbconvert_exporter": "python",
   "pygments_lexer": "ipython3",
   "version": "3.10.11"
  }
 },
 "nbformat": 4,
 "nbformat_minor": 5
}
